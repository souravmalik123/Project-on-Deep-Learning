{
 "cells": [
  {
   "cell_type": "code",
   "execution_count": 7,
   "id": "97bb2712",
   "metadata": {},
   "outputs": [],
   "source": [
    "import pandas as pd\n",
    "from sklearn.model_selection import train_test_split"
   ]
  },
  {
   "cell_type": "code",
   "execution_count": 3,
   "id": "d19556dc",
   "metadata": {},
   "outputs": [
    {
     "name": "stdout",
     "output_type": "stream",
     "text": [
      "      JEEPRE   JEEMAINS  STATUS\n",
      "0  34.623660  78.024693       0\n",
      "1  30.286711  43.894998       0\n"
     ]
    }
   ],
   "source": [
    "students = pd.read_csv(\"Students.csv\")\n",
    "print(students.head(2))"
   ]
  },
  {
   "cell_type": "code",
   "execution_count": 9,
   "id": "a4fbdf59",
   "metadata": {},
   "outputs": [],
   "source": [
    "x = students[[\"JEEPRE\",\"JEEMAINS\"]]\n",
    "y = students[\"STATUS\"]"
   ]
  },
  {
   "cell_type": "code",
   "execution_count": 10,
   "id": "216aa54e",
   "metadata": {},
   "outputs": [],
   "source": [
    "x_train,x_test,y_train,y_test = train_test_split(x,y,test_size=0.2,random_state=42)\n"
   ]
  },
  {
   "cell_type": "code",
   "execution_count": 13,
   "id": "6f6949c1",
   "metadata": {},
   "outputs": [],
   "source": [
    "from sklearn.neural_network import MLPClassifier"
   ]
  },
  {
   "cell_type": "code",
   "execution_count": 14,
   "id": "11fd51b9",
   "metadata": {
    "collapsed": true
   },
   "outputs": [
    {
     "data": {
      "text/html": [
       "<style>#sk-container-id-1 {color: black;}#sk-container-id-1 pre{padding: 0;}#sk-container-id-1 div.sk-toggleable {background-color: white;}#sk-container-id-1 label.sk-toggleable__label {cursor: pointer;display: block;width: 100%;margin-bottom: 0;padding: 0.3em;box-sizing: border-box;text-align: center;}#sk-container-id-1 label.sk-toggleable__label-arrow:before {content: \"▸\";float: left;margin-right: 0.25em;color: #696969;}#sk-container-id-1 label.sk-toggleable__label-arrow:hover:before {color: black;}#sk-container-id-1 div.sk-estimator:hover label.sk-toggleable__label-arrow:before {color: black;}#sk-container-id-1 div.sk-toggleable__content {max-height: 0;max-width: 0;overflow: hidden;text-align: left;background-color: #f0f8ff;}#sk-container-id-1 div.sk-toggleable__content pre {margin: 0.2em;color: black;border-radius: 0.25em;background-color: #f0f8ff;}#sk-container-id-1 input.sk-toggleable__control:checked~div.sk-toggleable__content {max-height: 200px;max-width: 100%;overflow: auto;}#sk-container-id-1 input.sk-toggleable__control:checked~label.sk-toggleable__label-arrow:before {content: \"▾\";}#sk-container-id-1 div.sk-estimator input.sk-toggleable__control:checked~label.sk-toggleable__label {background-color: #d4ebff;}#sk-container-id-1 div.sk-label input.sk-toggleable__control:checked~label.sk-toggleable__label {background-color: #d4ebff;}#sk-container-id-1 input.sk-hidden--visually {border: 0;clip: rect(1px 1px 1px 1px);clip: rect(1px, 1px, 1px, 1px);height: 1px;margin: -1px;overflow: hidden;padding: 0;position: absolute;width: 1px;}#sk-container-id-1 div.sk-estimator {font-family: monospace;background-color: #f0f8ff;border: 1px dotted black;border-radius: 0.25em;box-sizing: border-box;margin-bottom: 0.5em;}#sk-container-id-1 div.sk-estimator:hover {background-color: #d4ebff;}#sk-container-id-1 div.sk-parallel-item::after {content: \"\";width: 100%;border-bottom: 1px solid gray;flex-grow: 1;}#sk-container-id-1 div.sk-label:hover label.sk-toggleable__label {background-color: #d4ebff;}#sk-container-id-1 div.sk-serial::before {content: \"\";position: absolute;border-left: 1px solid gray;box-sizing: border-box;top: 0;bottom: 0;left: 50%;z-index: 0;}#sk-container-id-1 div.sk-serial {display: flex;flex-direction: column;align-items: center;background-color: white;padding-right: 0.2em;padding-left: 0.2em;position: relative;}#sk-container-id-1 div.sk-item {position: relative;z-index: 1;}#sk-container-id-1 div.sk-parallel {display: flex;align-items: stretch;justify-content: center;background-color: white;position: relative;}#sk-container-id-1 div.sk-item::before, #sk-container-id-1 div.sk-parallel-item::before {content: \"\";position: absolute;border-left: 1px solid gray;box-sizing: border-box;top: 0;bottom: 0;left: 50%;z-index: -1;}#sk-container-id-1 div.sk-parallel-item {display: flex;flex-direction: column;z-index: 1;position: relative;background-color: white;}#sk-container-id-1 div.sk-parallel-item:first-child::after {align-self: flex-end;width: 50%;}#sk-container-id-1 div.sk-parallel-item:last-child::after {align-self: flex-start;width: 50%;}#sk-container-id-1 div.sk-parallel-item:only-child::after {width: 0;}#sk-container-id-1 div.sk-dashed-wrapped {border: 1px dashed gray;margin: 0 0.4em 0.5em 0.4em;box-sizing: border-box;padding-bottom: 0.4em;background-color: white;}#sk-container-id-1 div.sk-label label {font-family: monospace;font-weight: bold;display: inline-block;line-height: 1.2em;}#sk-container-id-1 div.sk-label-container {text-align: center;}#sk-container-id-1 div.sk-container {/* jupyter's `normalize.less` sets `[hidden] { display: none; }` but bootstrap.min.css set `[hidden] { display: none !important; }` so we also need the `!important` here to be able to override the default hidden behavior on the sphinx rendered scikit-learn.org. See: https://github.com/scikit-learn/scikit-learn/issues/21755 */display: inline-block !important;position: relative;}#sk-container-id-1 div.sk-text-repr-fallback {display: none;}</style><div id=\"sk-container-id-1\" class=\"sk-top-container\"><div class=\"sk-text-repr-fallback\"><pre>MLPClassifier(hidden_layer_sizes=(6, 5), random_state=3, verbose=True)</pre><b>In a Jupyter environment, please rerun this cell to show the HTML representation or trust the notebook. <br />On GitHub, the HTML representation is unable to render, please try loading this page with nbviewer.org.</b></div><div class=\"sk-container\" hidden><div class=\"sk-item\"><div class=\"sk-estimator sk-toggleable\"><input class=\"sk-toggleable__control sk-hidden--visually\" id=\"sk-estimator-id-1\" type=\"checkbox\" checked><label for=\"sk-estimator-id-1\" class=\"sk-toggleable__label sk-toggleable__label-arrow\">MLPClassifier</label><div class=\"sk-toggleable__content\"><pre>MLPClassifier(hidden_layer_sizes=(6, 5), random_state=3, verbose=True)</pre></div></div></div></div></div>"
      ],
      "text/plain": [
       "MLPClassifier(hidden_layer_sizes=(6, 5), random_state=3, verbose=True)"
      ]
     },
     "execution_count": 14,
     "metadata": {},
     "output_type": "execute_result"
    }
   ],
   "source": [
    "clf = MLPClassifier(hidden_layer_sizes=(6,5), random_state=3,verbose=True)\n",
    "clf"
   ]
  },
  {
   "cell_type": "code",
   "execution_count": 15,
   "id": "3c9106cb",
   "metadata": {
    "collapsed": true
   },
   "outputs": [
    {
     "name": "stdout",
     "output_type": "stream",
     "text": [
      "Iteration 1, loss = 2.62681901\n",
      "Iteration 2, loss = 2.57508431\n",
      "Iteration 3, loss = 2.52373488\n",
      "Iteration 4, loss = 2.47297169\n",
      "Iteration 5, loss = 2.42327314\n",
      "Iteration 6, loss = 2.37413315\n",
      "Iteration 7, loss = 2.32544327\n",
      "Iteration 8, loss = 2.27720878\n",
      "Iteration 9, loss = 2.22943852\n",
      "Iteration 10, loss = 2.18214340\n",
      "Iteration 11, loss = 2.13554022\n",
      "Iteration 12, loss = 2.08962274\n",
      "Iteration 13, loss = 2.04423137\n",
      "Iteration 14, loss = 1.99937687\n",
      "Iteration 15, loss = 1.95507135\n",
      "Iteration 16, loss = 1.91132800\n",
      "Iteration 17, loss = 1.86816099\n",
      "Iteration 18, loss = 1.82558534\n",
      "Iteration 19, loss = 1.78361220\n",
      "Iteration 20, loss = 1.74222915\n",
      "Iteration 21, loss = 1.70148123\n",
      "Iteration 22, loss = 1.66137085\n",
      "Iteration 23, loss = 1.62190849\n",
      "Iteration 24, loss = 1.58312984\n",
      "Iteration 25, loss = 1.54505445\n",
      "Iteration 26, loss = 1.50770249\n",
      "Iteration 27, loss = 1.47106386\n",
      "Iteration 28, loss = 1.43521720\n",
      "Iteration 29, loss = 1.40035747\n",
      "Iteration 30, loss = 1.36639802\n",
      "Iteration 31, loss = 1.33337251\n",
      "Iteration 32, loss = 1.30138610\n",
      "Iteration 33, loss = 1.27024773\n",
      "Iteration 34, loss = 1.23997186\n",
      "Iteration 35, loss = 1.21057300\n",
      "Iteration 36, loss = 1.18206547\n",
      "Iteration 37, loss = 1.15446318\n",
      "Iteration 38, loss = 1.12771954\n",
      "Iteration 39, loss = 1.10186384\n",
      "Iteration 40, loss = 1.07693393\n",
      "Iteration 41, loss = 1.05295092\n",
      "Iteration 42, loss = 1.02992403\n",
      "Iteration 43, loss = 1.00780202\n",
      "Iteration 44, loss = 0.98662808\n",
      "Iteration 45, loss = 0.96641961\n",
      "Iteration 46, loss = 0.94717661\n",
      "Iteration 47, loss = 0.92892147\n",
      "Iteration 48, loss = 0.91163542\n",
      "Iteration 49, loss = 0.89528389\n",
      "Iteration 50, loss = 0.87985313\n",
      "Iteration 51, loss = 0.86532614\n",
      "Iteration 52, loss = 0.85168277\n",
      "Iteration 53, loss = 0.83889987\n",
      "Iteration 54, loss = 0.82695282\n",
      "Iteration 55, loss = 0.81583835\n",
      "Iteration 56, loss = 0.80546276\n",
      "Iteration 57, loss = 0.79570464\n",
      "Iteration 58, loss = 0.78665287\n",
      "Iteration 59, loss = 0.77827450\n",
      "Iteration 60, loss = 0.77053537\n",
      "Iteration 61, loss = 0.76340048\n",
      "Iteration 62, loss = 0.75683441\n",
      "Iteration 63, loss = 0.75080159\n",
      "Iteration 64, loss = 0.74526671\n",
      "Iteration 65, loss = 0.74019492\n",
      "Iteration 66, loss = 0.73552655\n",
      "Iteration 67, loss = 0.73123631\n",
      "Iteration 68, loss = 0.72731023\n",
      "Iteration 69, loss = 0.72373920\n",
      "Iteration 70, loss = 0.72047949\n",
      "Iteration 71, loss = 0.71749921\n",
      "Iteration 72, loss = 0.71477236\n",
      "Iteration 73, loss = 0.71227453\n",
      "Iteration 74, loss = 0.70998295\n",
      "Iteration 75, loss = 0.70787647\n",
      "Iteration 76, loss = 0.70593553\n",
      "Iteration 77, loss = 0.70414213\n",
      "Iteration 78, loss = 0.70247979\n",
      "Iteration 79, loss = 0.70093349\n",
      "Iteration 80, loss = 0.69948958\n",
      "Iteration 81, loss = 0.69813573\n",
      "Iteration 82, loss = 0.69686085\n",
      "Iteration 83, loss = 0.69565501\n",
      "Iteration 84, loss = 0.69450935\n",
      "Iteration 85, loss = 0.69341603\n",
      "Iteration 86, loss = 0.69236810\n",
      "Iteration 87, loss = 0.69135949\n",
      "Iteration 88, loss = 0.69038488\n",
      "Iteration 89, loss = 0.68943967\n",
      "Iteration 90, loss = 0.68851988\n",
      "Iteration 91, loss = 0.68762211\n",
      "Iteration 92, loss = 0.68674348\n",
      "Iteration 93, loss = 0.68588155\n",
      "Iteration 94, loss = 0.68503429\n",
      "Iteration 95, loss = 0.68420004\n",
      "Iteration 96, loss = 0.68337744\n",
      "Iteration 97, loss = 0.68256541\n",
      "Iteration 98, loss = 0.68176309\n",
      "Iteration 99, loss = 0.68096985\n",
      "Iteration 100, loss = 0.68018521\n",
      "Iteration 101, loss = 0.67940884\n",
      "Iteration 102, loss = 0.67864053\n",
      "Iteration 103, loss = 0.67788016\n",
      "Iteration 104, loss = 0.67712771\n",
      "Iteration 105, loss = 0.67638321\n",
      "Iteration 106, loss = 0.67564677\n",
      "Iteration 107, loss = 0.67493996\n",
      "Iteration 108, loss = 0.67424315\n",
      "Iteration 109, loss = 0.67355629\n",
      "Iteration 110, loss = 0.67287937\n",
      "Iteration 111, loss = 0.67221236\n",
      "Iteration 112, loss = 0.67155525\n",
      "Iteration 113, loss = 0.67090804\n",
      "Iteration 114, loss = 0.67027073\n",
      "Iteration 115, loss = 0.66964329\n",
      "Iteration 116, loss = 0.66902572\n",
      "Iteration 117, loss = 0.66841797\n",
      "Iteration 118, loss = 0.66782001\n",
      "Iteration 119, loss = 0.66723180\n",
      "Iteration 120, loss = 0.66665326\n",
      "Iteration 121, loss = 0.66608433\n",
      "Iteration 122, loss = 0.66552494\n",
      "Iteration 123, loss = 0.66497497\n",
      "Iteration 124, loss = 0.66443435\n",
      "Iteration 125, loss = 0.66390295\n",
      "Iteration 126, loss = 0.66338066\n",
      "Iteration 127, loss = 0.66286736\n",
      "Iteration 128, loss = 0.66236292\n",
      "Iteration 129, loss = 0.66186721\n",
      "Iteration 130, loss = 0.66138008\n",
      "Iteration 131, loss = 0.66090139\n",
      "Iteration 132, loss = 0.66043101\n",
      "Iteration 133, loss = 0.65996879\n",
      "Iteration 134, loss = 0.65951458\n",
      "Iteration 135, loss = 0.65906824\n",
      "Iteration 136, loss = 0.65862962\n",
      "Iteration 137, loss = 0.65819858\n",
      "Iteration 138, loss = 0.65777497\n",
      "Iteration 139, loss = 0.65735865\n",
      "Iteration 140, loss = 0.65694948\n",
      "Iteration 141, loss = 0.65654733\n",
      "Iteration 142, loss = 0.65615205\n",
      "Iteration 143, loss = 0.65576352\n",
      "Iteration 144, loss = 0.65538161\n",
      "Iteration 145, loss = 0.65500618\n",
      "Iteration 146, loss = 0.65463711\n",
      "Iteration 147, loss = 0.65427428\n",
      "Iteration 148, loss = 0.65391757\n",
      "Iteration 149, loss = 0.65356686\n",
      "Iteration 150, loss = 0.65322203\n",
      "Iteration 151, loss = 0.65288297\n",
      "Iteration 152, loss = 0.65254957\n",
      "Iteration 153, loss = 0.65222173\n",
      "Iteration 154, loss = 0.65189933\n",
      "Iteration 155, loss = 0.65158226\n",
      "Iteration 156, loss = 0.65127043\n",
      "Iteration 157, loss = 0.65096374\n",
      "Iteration 158, loss = 0.65066208\n",
      "Iteration 159, loss = 0.65036987\n",
      "Iteration 160, loss = 0.65008762\n",
      "Iteration 161, loss = 0.64981004\n",
      "Iteration 162, loss = 0.64953698\n",
      "Iteration 163, loss = 0.64926826\n",
      "Iteration 164, loss = 0.64900374\n",
      "Iteration 165, loss = 0.64874329\n",
      "Iteration 166, loss = 0.64848677\n",
      "Iteration 167, loss = 0.64823407\n",
      "Iteration 168, loss = 0.64798506\n",
      "Iteration 169, loss = 0.64773966\n",
      "Iteration 170, loss = 0.64749774\n",
      "Iteration 171, loss = 0.64725922\n",
      "Iteration 172, loss = 0.64702399\n",
      "Iteration 173, loss = 0.64679198\n",
      "Iteration 174, loss = 0.64656308\n",
      "Iteration 175, loss = 0.64633722\n",
      "Iteration 176, loss = 0.64611431\n",
      "Iteration 177, loss = 0.64589427\n",
      "Iteration 178, loss = 0.64567703\n",
      "Iteration 179, loss = 0.64546250\n",
      "Iteration 180, loss = 0.64525061\n",
      "Iteration 181, loss = 0.64504128\n",
      "Iteration 182, loss = 0.64483446\n",
      "Iteration 183, loss = 0.64463006\n",
      "Iteration 184, loss = 0.64442803\n",
      "Iteration 185, loss = 0.64422828\n",
      "Iteration 186, loss = 0.64403077\n",
      "Iteration 187, loss = 0.64383542\n",
      "Iteration 188, loss = 0.64364217\n",
      "Iteration 189, loss = 0.64345097\n",
      "Iteration 190, loss = 0.64326176\n",
      "Iteration 191, loss = 0.64307447\n",
      "Iteration 192, loss = 0.64288906\n",
      "Iteration 193, loss = 0.64270546\n",
      "Iteration 194, loss = 0.64252364\n",
      "Iteration 195, loss = 0.64234353\n",
      "Iteration 196, loss = 0.64216508\n",
      "Iteration 197, loss = 0.64198826\n",
      "Iteration 198, loss = 0.64181300\n",
      "Iteration 199, loss = 0.64163927\n",
      "Iteration 200, loss = 0.64146703\n"
     ]
    },
    {
     "name": "stderr",
     "output_type": "stream",
     "text": [
      "C:\\Users\\MD SUHAIL MALIK\\Documents\\Python Scripts\\Lib\\site-packages\\sklearn\\neural_network\\_multilayer_perceptron.py:691: ConvergenceWarning: Stochastic Optimizer: Maximum iterations (200) reached and the optimization hasn't converged yet.\n",
      "  warnings.warn(\n"
     ]
    },
    {
     "data": {
      "text/html": [
       "<style>#sk-container-id-2 {color: black;}#sk-container-id-2 pre{padding: 0;}#sk-container-id-2 div.sk-toggleable {background-color: white;}#sk-container-id-2 label.sk-toggleable__label {cursor: pointer;display: block;width: 100%;margin-bottom: 0;padding: 0.3em;box-sizing: border-box;text-align: center;}#sk-container-id-2 label.sk-toggleable__label-arrow:before {content: \"▸\";float: left;margin-right: 0.25em;color: #696969;}#sk-container-id-2 label.sk-toggleable__label-arrow:hover:before {color: black;}#sk-container-id-2 div.sk-estimator:hover label.sk-toggleable__label-arrow:before {color: black;}#sk-container-id-2 div.sk-toggleable__content {max-height: 0;max-width: 0;overflow: hidden;text-align: left;background-color: #f0f8ff;}#sk-container-id-2 div.sk-toggleable__content pre {margin: 0.2em;color: black;border-radius: 0.25em;background-color: #f0f8ff;}#sk-container-id-2 input.sk-toggleable__control:checked~div.sk-toggleable__content {max-height: 200px;max-width: 100%;overflow: auto;}#sk-container-id-2 input.sk-toggleable__control:checked~label.sk-toggleable__label-arrow:before {content: \"▾\";}#sk-container-id-2 div.sk-estimator input.sk-toggleable__control:checked~label.sk-toggleable__label {background-color: #d4ebff;}#sk-container-id-2 div.sk-label input.sk-toggleable__control:checked~label.sk-toggleable__label {background-color: #d4ebff;}#sk-container-id-2 input.sk-hidden--visually {border: 0;clip: rect(1px 1px 1px 1px);clip: rect(1px, 1px, 1px, 1px);height: 1px;margin: -1px;overflow: hidden;padding: 0;position: absolute;width: 1px;}#sk-container-id-2 div.sk-estimator {font-family: monospace;background-color: #f0f8ff;border: 1px dotted black;border-radius: 0.25em;box-sizing: border-box;margin-bottom: 0.5em;}#sk-container-id-2 div.sk-estimator:hover {background-color: #d4ebff;}#sk-container-id-2 div.sk-parallel-item::after {content: \"\";width: 100%;border-bottom: 1px solid gray;flex-grow: 1;}#sk-container-id-2 div.sk-label:hover label.sk-toggleable__label {background-color: #d4ebff;}#sk-container-id-2 div.sk-serial::before {content: \"\";position: absolute;border-left: 1px solid gray;box-sizing: border-box;top: 0;bottom: 0;left: 50%;z-index: 0;}#sk-container-id-2 div.sk-serial {display: flex;flex-direction: column;align-items: center;background-color: white;padding-right: 0.2em;padding-left: 0.2em;position: relative;}#sk-container-id-2 div.sk-item {position: relative;z-index: 1;}#sk-container-id-2 div.sk-parallel {display: flex;align-items: stretch;justify-content: center;background-color: white;position: relative;}#sk-container-id-2 div.sk-item::before, #sk-container-id-2 div.sk-parallel-item::before {content: \"\";position: absolute;border-left: 1px solid gray;box-sizing: border-box;top: 0;bottom: 0;left: 50%;z-index: -1;}#sk-container-id-2 div.sk-parallel-item {display: flex;flex-direction: column;z-index: 1;position: relative;background-color: white;}#sk-container-id-2 div.sk-parallel-item:first-child::after {align-self: flex-end;width: 50%;}#sk-container-id-2 div.sk-parallel-item:last-child::after {align-self: flex-start;width: 50%;}#sk-container-id-2 div.sk-parallel-item:only-child::after {width: 0;}#sk-container-id-2 div.sk-dashed-wrapped {border: 1px dashed gray;margin: 0 0.4em 0.5em 0.4em;box-sizing: border-box;padding-bottom: 0.4em;background-color: white;}#sk-container-id-2 div.sk-label label {font-family: monospace;font-weight: bold;display: inline-block;line-height: 1.2em;}#sk-container-id-2 div.sk-label-container {text-align: center;}#sk-container-id-2 div.sk-container {/* jupyter's `normalize.less` sets `[hidden] { display: none; }` but bootstrap.min.css set `[hidden] { display: none !important; }` so we also need the `!important` here to be able to override the default hidden behavior on the sphinx rendered scikit-learn.org. See: https://github.com/scikit-learn/scikit-learn/issues/21755 */display: inline-block !important;position: relative;}#sk-container-id-2 div.sk-text-repr-fallback {display: none;}</style><div id=\"sk-container-id-2\" class=\"sk-top-container\"><div class=\"sk-text-repr-fallback\"><pre>MLPClassifier(hidden_layer_sizes=(6, 5), random_state=3, verbose=True)</pre><b>In a Jupyter environment, please rerun this cell to show the HTML representation or trust the notebook. <br />On GitHub, the HTML representation is unable to render, please try loading this page with nbviewer.org.</b></div><div class=\"sk-container\" hidden><div class=\"sk-item\"><div class=\"sk-estimator sk-toggleable\"><input class=\"sk-toggleable__control sk-hidden--visually\" id=\"sk-estimator-id-2\" type=\"checkbox\" checked><label for=\"sk-estimator-id-2\" class=\"sk-toggleable__label sk-toggleable__label-arrow\">MLPClassifier</label><div class=\"sk-toggleable__content\"><pre>MLPClassifier(hidden_layer_sizes=(6, 5), random_state=3, verbose=True)</pre></div></div></div></div></div>"
      ],
      "text/plain": [
       "MLPClassifier(hidden_layer_sizes=(6, 5), random_state=3, verbose=True)"
      ]
     },
     "execution_count": 15,
     "metadata": {},
     "output_type": "execute_result"
    }
   ],
   "source": [
    "clf.fit(x_train,y_train)"
   ]
  },
  {
   "cell_type": "code",
   "execution_count": 16,
   "id": "9bb94c1e",
   "metadata": {},
   "outputs": [
    {
     "name": "stdout",
     "output_type": "stream",
     "text": [
      "[1 1 1 1 1 1 1 1 0 1 1 1 1 1 1 1 1 1 1 1]\n"
     ]
    }
   ],
   "source": [
    "ypred = clf.predict(x_test)\n",
    "print(ypred)"
   ]
  },
  {
   "cell_type": "code",
   "execution_count": 23,
   "id": "ba41169c",
   "metadata": {},
   "outputs": [],
   "source": [
    "from sklearn.metrics import accuracy_score ,confusion_matrix"
   ]
  },
  {
   "cell_type": "code",
   "execution_count": 24,
   "id": "ca6a49fb",
   "metadata": {},
   "outputs": [
    {
     "data": {
      "text/plain": [
       "0.65"
      ]
     },
     "execution_count": 24,
     "metadata": {},
     "output_type": "execute_result"
    }
   ],
   "source": [
    "accuracy_score(y_test,ypred)"
   ]
  },
  {
   "cell_type": "code",
   "execution_count": 25,
   "id": "4c285ae9",
   "metadata": {},
   "outputs": [
    {
     "data": {
      "text/plain": [
       "array([[ 1,  7],\n",
       "       [ 0, 12]], dtype=int64)"
      ]
     },
     "execution_count": 25,
     "metadata": {},
     "output_type": "execute_result"
    }
   ],
   "source": [
    "confusion_matrix(y_test,ypred)"
   ]
  },
  {
   "cell_type": "code",
   "execution_count": null,
   "id": "e92709ee",
   "metadata": {},
   "outputs": [],
   "source": []
  }
 ],
 "metadata": {
  "kernelspec": {
   "display_name": "Python 3 (ipykernel)",
   "language": "python",
   "name": "python3"
  },
  "language_info": {
   "codemirror_mode": {
    "name": "ipython",
    "version": 3
   },
   "file_extension": ".py",
   "mimetype": "text/x-python",
   "name": "python",
   "nbconvert_exporter": "python",
   "pygments_lexer": "ipython3",
   "version": "3.11.4"
  }
 },
 "nbformat": 4,
 "nbformat_minor": 5
}
